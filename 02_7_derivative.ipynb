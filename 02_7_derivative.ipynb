{
 "cells": [
  {
   "cell_type": "code",
   "execution_count": 100,
   "metadata": {},
   "outputs": [],
   "source": [
    "import sympy as sp\n",
    "import spb\n",
    "\n",
    "x,y,a,t,h = sp.symbols(\"x y a t h\")"
   ]
  },
  {
   "cell_type": "markdown",
   "metadata": {},
   "source": [
    "# Tangent"
   ]
  },
  {
   "cell_type": "code",
   "execution_count": 2,
   "metadata": {},
   "outputs": [
    {
     "data": {
      "text/latex": [
       "$\\displaystyle x^{2}$"
      ],
      "text/plain": [
       "x**2"
      ]
     },
     "execution_count": 2,
     "metadata": {},
     "output_type": "execute_result"
    }
   ],
   "source": [
    "fx = x**2\n",
    "fx"
   ]
  },
  {
   "cell_type": "code",
   "execution_count": 3,
   "metadata": {},
   "outputs": [
    {
     "data": {
      "text/plain": [
       "([1, 1], [2, 4])"
      ]
     },
     "execution_count": 3,
     "metadata": {},
     "output_type": "execute_result"
    }
   ],
   "source": [
    "P = [1,fx.subs(x,1)]\n",
    "Q = [2,fx.subs(x,2)]\n",
    "O = [2,1]  # noqa: E741\n",
    "P,Q"
   ]
  },
  {
   "cell_type": "code",
   "execution_count": 4,
   "metadata": {},
   "outputs": [
    {
     "name": "stderr",
     "output_type": "stream",
     "text": [
      "/root/miniconda3/envs/calculus/lib/python3.10/site-packages/spb/graphics/graphics.py:226: UserWarning: The following keyword arguments are unused.\n",
      "* 'scatter': did you mean 'camera'?\n",
      "\n"
     ]
    },
    {
     "data": {
      "image/png": "[encoded data removed]",
      "text/plain": [
       "<Figure size 640x480 with 1 Axes>"
      ]
     },
     "metadata": {},
     "output_type": "display_data"
    }
   ],
   "source": [
    "func_plot = spb.plot(fx,(x,-2,3),show=False)\n",
    "scatter_points = spb.plot_list(list(zip(P,Q,O)),scatter=True,show=False)\n",
    "triangle = spb.graphics(spb.geometry(sp.Polygon(P,Q,O),fill=False),show=False)\n",
    "(func_plot + scatter_points + triangle).show()"
   ]
  },
  {
   "cell_type": "code",
   "execution_count": 5,
   "metadata": {},
   "outputs": [
    {
     "data": {
      "text/latex": [
       "$\\displaystyle \\frac{3}{x}$"
      ],
      "text/plain": [
       "3/x"
      ]
     },
     "execution_count": 5,
     "metadata": {},
     "output_type": "execute_result"
    }
   ],
   "source": [
    "fx = 3/x\n",
    "fx"
   ]
  },
  {
   "cell_type": "code",
   "execution_count": 6,
   "metadata": {},
   "outputs": [
    {
     "data": {
      "text/latex": [
       "$\\displaystyle \\frac{\\frac{3}{h + x} - \\frac{3}{x}}{h}$"
      ],
      "text/plain": [
       "(3/(h + x) - 3/x)/h"
      ]
     },
     "execution_count": 6,
     "metadata": {},
     "output_type": "execute_result"
    }
   ],
   "source": [
    "m = (fx.subs(x,x+h) - fx.subs(x,x))/h\n",
    "m"
   ]
  },
  {
   "cell_type": "code",
   "execution_count": 7,
   "metadata": {},
   "outputs": [
    {
     "data": {
      "text/latex": [
       "$\\displaystyle - \\frac{3}{x^{2}}$"
      ],
      "text/plain": [
       "-3/x**2"
      ]
     },
     "execution_count": 7,
     "metadata": {},
     "output_type": "execute_result"
    }
   ],
   "source": [
    "diff = sp.limit(m,h,0)\n",
    "diff"
   ]
  },
  {
   "cell_type": "markdown",
   "metadata": {},
   "source": [
    "# Exercise"
   ]
  },
  {
   "cell_type": "markdown",
   "metadata": {},
   "source": [
    "## 1 **Curve $y = f(x)$**\n",
    "\n",
    "(a) Find the slope of the secant line through points $P(3, f(3))$ and $Q(x, f(x))$.\n",
    "\n",
    "$$m_{PQ} = \\frac{f(x) - f(3)}{x-3}$$\n",
    "\n",
    "(b) Find the slope of the tangent line at $P$.\n",
    "$$m = \\lim_{x \\to 3}\\frac{f(x) - f(3)}{x-3}$$\n",
    "\n"
   ]
  },
  {
   "cell_type": "markdown",
   "metadata": {},
   "source": [
    "## 2 **Graph of $y = e^x$**\n",
    "\n",
    "**Analyze the behavior of the curve $y = e^x$ as you zoom in towards the point $(0, 1).**\n",
    "\n",
    "> Ans : curve look link line as we zoom in "
   ]
  },
  {
   "cell_type": "code",
   "execution_count": 10,
   "metadata": {},
   "outputs": [
    {
     "data": {
      "application/vnd.jupyter.widget-view+json": {
       "model_id": "af4c5cbef11b40cf93dfc3d191cacb84",
       "version_major": 2,
       "version_minor": 0
      },
      "text/plain": [
       "BokehModel(combine_events=True, render_bundle={'docs_json': {'194811da-9660-4ed3-aa7e-6f6353ce88c3': {'version…"
      ]
     },
     "execution_count": 10,
     "metadata": {},
     "output_type": "execute_result"
    }
   ],
   "source": [
    "imodule = \"panel\"\n",
    "options = dict(\n",
    "    imodule=imodule, use_latex=False, params={\n",
    "        a: (5, 0.0000001,5),\n",
    "    },legend=True)\n",
    "spb.plot(sp.exp(x), spb.prange(x, -a, a), **options)"
   ]
  },
  {
   "cell_type": "markdown",
   "metadata": {},
   "source": [
    "## 3 **Tangent line to $y = x^2 + 3x$**\n",
    "\n",
    "(a) Find the slope of the tangent line to the parabola $y = x^2 + 3x$ at $(-1, -2)$.\n",
    "> Ans : 1\n",
    "\n",
    "(b) Find the equation of the tangent line found in part (a).\n",
    "> $ y  = x - 1$\n",
    "\n",
    "(c) Graph the parabola and the tangent line. Zoom in towards $(-1, -2)$ to verify your work.\n"
   ]
  },
  {
   "cell_type": "code",
   "execution_count": 11,
   "metadata": {},
   "outputs": [
    {
     "data": {
      "text/latex": [
       "$\\displaystyle x^{2} + 3 x$"
      ],
      "text/plain": [
       "x**2 + 3*x"
      ]
     },
     "execution_count": 11,
     "metadata": {},
     "output_type": "execute_result"
    }
   ],
   "source": [
    "fx = x**2 + 3*x\n",
    "fx"
   ]
  },
  {
   "cell_type": "code",
   "execution_count": 12,
   "metadata": {},
   "outputs": [
    {
     "data": {
      "text/latex": [
       "$\\displaystyle \\frac{x^{2} + 3 x + 2}{x + 1}$"
      ],
      "text/plain": [
       "(x**2 + 3*x + 2)/(x + 1)"
      ]
     },
     "execution_count": 12,
     "metadata": {},
     "output_type": "execute_result"
    }
   ],
   "source": [
    "slope_secant_line = (fx + 2)/(x+1)\n",
    "slope_secant_line"
   ]
  },
  {
   "cell_type": "code",
   "execution_count": 14,
   "metadata": {},
   "outputs": [
    {
     "data": {
      "text/latex": [
       "$\\displaystyle 1$"
      ],
      "text/plain": [
       "1"
      ]
     },
     "execution_count": 14,
     "metadata": {},
     "output_type": "execute_result"
    }
   ],
   "source": [
    "slope_tangent = sp.limit(slope_secant_line,x,-1)\n",
    "slope_tangent"
   ]
  },
  {
   "cell_type": "code",
   "execution_count": 17,
   "metadata": {},
   "outputs": [
    {
     "data": {
      "text/latex": [
       "$\\displaystyle - x + y + 1$"
      ],
      "text/plain": [
       "-x + y + 1"
      ]
     },
     "execution_count": 17,
     "metadata": {},
     "output_type": "execute_result"
    }
   ],
   "source": [
    "tangent_line = sp.Line((-1,-2),slope=slope_tangent)\n",
    "tangent_line.equation()"
   ]
  },
  {
   "cell_type": "code",
   "execution_count": 38,
   "metadata": {},
   "outputs": [
    {
     "data": {
      "text/latex": [
       "$\\displaystyle x - 1$"
      ],
      "text/plain": [
       "x - 1"
      ]
     },
     "execution_count": 38,
     "metadata": {},
     "output_type": "execute_result"
    }
   ],
   "source": [
    "tangent_line_eq = x-1\n",
    "tangent_line_eq"
   ]
  },
  {
   "cell_type": "code",
   "execution_count": 40,
   "metadata": {},
   "outputs": [
    {
     "data": {
      "image/png": "[encoded data removed]",
      "text/plain": [
       "<Figure size 640x480 with 1 Axes>"
      ]
     },
     "metadata": {},
     "output_type": "display_data"
    },
    {
     "data": {
      "text/plain": [
       "<spb.backends.matplotlib.matplotlib.MatplotlibBackend at 0x7fb6d04f50f0>"
      ]
     },
     "execution_count": 40,
     "metadata": {},
     "output_type": "execute_result"
    }
   ],
   "source": [
    "spb.graphics(\n",
    "    spb.line(fx,(x,-3,0)),\n",
    "    spb.line(tangent_line_eq,(x,-1.5,-.5),\"tangent_line\")\n",
    "    )"
   ]
  },
  {
   "cell_type": "markdown",
   "metadata": {},
   "source": [
    "## 4 **Tangent line to $y = x^3 + 1$**\n",
    "\n",
    "(a) Find the slope of the tangent line to the curve $y = x^3 + 1$ at $(1, 2)$.\n",
    "\n",
    "(b) Find the equation of the tangent line found in part (a).\n",
    "\n",
    "(c) Graph the curve and the tangent line. Zoom in towards $(1, 2)$ to verify your work."
   ]
  },
  {
   "cell_type": "code",
   "execution_count": 41,
   "metadata": {},
   "outputs": [
    {
     "data": {
      "text/latex": [
       "$\\displaystyle x^{3} + 1$"
      ],
      "text/plain": [
       "x**3 + 1"
      ]
     },
     "execution_count": 41,
     "metadata": {},
     "output_type": "execute_result"
    }
   ],
   "source": [
    "fx = x**3 + 1\n",
    "fx"
   ]
  },
  {
   "cell_type": "code",
   "execution_count": 43,
   "metadata": {},
   "outputs": [
    {
     "data": {
      "text/latex": [
       "$\\displaystyle \\frac{x^{3} - 1}{x - 1}$"
      ],
      "text/plain": [
       "(x**3 - 1)/(x - 1)"
      ]
     },
     "execution_count": 43,
     "metadata": {},
     "output_type": "execute_result"
    }
   ],
   "source": [
    "slope_secant_line = (fx - 2) / (x -1)\n",
    "slope_secant_line"
   ]
  },
  {
   "cell_type": "code",
   "execution_count": 44,
   "metadata": {},
   "outputs": [
    {
     "data": {
      "text/latex": [
       "$\\displaystyle 3$"
      ],
      "text/plain": [
       "3"
      ]
     },
     "execution_count": 44,
     "metadata": {},
     "output_type": "execute_result"
    }
   ],
   "source": [
    "slope_tangent = sp.limit(slope_secant_line,x,1)\n",
    "slope_tangent"
   ]
  },
  {
   "cell_type": "code",
   "execution_count": 45,
   "metadata": {},
   "outputs": [
    {
     "data": {
      "text/latex": [
       "$\\displaystyle - 3 x + y + 1$"
      ],
      "text/plain": [
       "-3*x + y + 1"
      ]
     },
     "execution_count": 45,
     "metadata": {},
     "output_type": "execute_result"
    }
   ],
   "source": [
    "tangent_line = sp.Line((1,2),slope=slope_tangent)\n",
    "tangent_line.equation()"
   ]
  },
  {
   "cell_type": "code",
   "execution_count": 46,
   "metadata": {},
   "outputs": [
    {
     "data": {
      "text/latex": [
       "$\\displaystyle 3 x - 1$"
      ],
      "text/plain": [
       "3*x - 1"
      ]
     },
     "execution_count": 46,
     "metadata": {},
     "output_type": "execute_result"
    }
   ],
   "source": [
    "tangent_line_eq = 3*x -1\n",
    "tangent_line_eq"
   ]
  },
  {
   "cell_type": "code",
   "execution_count": 50,
   "metadata": {},
   "outputs": [
    {
     "data": {
      "image/png": "[encoded data removed]",
      "text/plain": [
       "<Figure size 640x480 with 1 Axes>"
      ]
     },
     "metadata": {},
     "output_type": "display_data"
    },
    {
     "data": {
      "text/plain": [
       "<spb.backends.matplotlib.matplotlib.MatplotlibBackend at 0x7fb6d049a950>"
      ]
     },
     "execution_count": 50,
     "metadata": {},
     "output_type": "execute_result"
    }
   ],
   "source": [
    "spb.graphics(\n",
    "    spb.line(fx,(x,-2,2)),\n",
    "    spb.line(tangent_line_eq,(x,-1,2),\"tangent_line\")\n",
    "    )"
   ]
  },
  {
   "cell_type": "code",
   "execution_count": 57,
   "metadata": {},
   "outputs": [],
   "source": [
    "def secant_slope_fn(fx,val):\n",
    "    return sp.limit((fx - fx.subs(x,val)) / (x-val),x,val)"
   ]
  },
  {
   "cell_type": "markdown",
   "metadata": {},
   "source": [
    "## 5 Tangent line to $y = 2x^2 - 5x + 1$\n",
    "\n",
    "(a) Find an equation of the tangent line to the curve at the point $(3, 4)$.\n"
   ]
  },
  {
   "cell_type": "code",
   "execution_count": 58,
   "metadata": {},
   "outputs": [
    {
     "data": {
      "text/latex": [
       "$\\displaystyle 2 x^{2} - 5 x + 1$"
      ],
      "text/plain": [
       "2*x**2 - 5*x + 1"
      ]
     },
     "execution_count": 58,
     "metadata": {},
     "output_type": "execute_result"
    }
   ],
   "source": [
    "fx = 2*x**2 -5*x +1\n",
    "fx"
   ]
  },
  {
   "cell_type": "code",
   "execution_count": 59,
   "metadata": {},
   "outputs": [
    {
     "data": {
      "text/latex": [
       "$\\displaystyle 7$"
      ],
      "text/plain": [
       "7"
      ]
     },
     "execution_count": 59,
     "metadata": {},
     "output_type": "execute_result"
    }
   ],
   "source": [
    "slope_tangent = secant_slope_fn(fx,3)\n",
    "slope_tangent"
   ]
  },
  {
   "cell_type": "code",
   "execution_count": 64,
   "metadata": {},
   "outputs": [
    {
     "data": {
      "text/latex": [
       "$\\displaystyle 7 x - 17$"
      ],
      "text/plain": [
       "7*x - 17"
      ]
     },
     "execution_count": 64,
     "metadata": {},
     "output_type": "execute_result"
    }
   ],
   "source": [
    "tangent_line_eq = slope_tangent * (x - 3) + 4\n",
    "tangent_line_eq "
   ]
  },
  {
   "cell_type": "markdown",
   "metadata": {},
   "source": [
    "\n",
    "## 6 Tangent line to $y = x^2 - 2x^3$\n",
    "\n",
    "(a) Find an equation of the tangent line to the curve at the point $(1, -1)$.\n"
   ]
  },
  {
   "cell_type": "code",
   "execution_count": 68,
   "metadata": {},
   "outputs": [
    {
     "data": {
      "text/latex": [
       "$\\displaystyle - 2 x^{3} + x^{2}$"
      ],
      "text/plain": [
       "-2*x**3 + x**2"
      ]
     },
     "execution_count": 68,
     "metadata": {},
     "output_type": "execute_result"
    }
   ],
   "source": [
    "fx = x**2 - 2*x**3\n",
    "fx"
   ]
  },
  {
   "cell_type": "code",
   "execution_count": 69,
   "metadata": {},
   "outputs": [
    {
     "data": {
      "text/latex": [
       "$\\displaystyle -4$"
      ],
      "text/plain": [
       "-4"
      ]
     },
     "execution_count": 69,
     "metadata": {},
     "output_type": "execute_result"
    }
   ],
   "source": [
    "slope_tangent = secant_slope_fn(fx,1)\n",
    "slope_tangent"
   ]
  },
  {
   "cell_type": "code",
   "execution_count": 70,
   "metadata": {},
   "outputs": [
    {
     "data": {
      "text/latex": [
       "$\\displaystyle 3 - 4 x$"
      ],
      "text/plain": [
       "3 - 4*x"
      ]
     },
     "execution_count": 70,
     "metadata": {},
     "output_type": "execute_result"
    }
   ],
   "source": [
    "tangent_line_eq = slope_tangent * (x -1) -1\n",
    "tangent_line_eq"
   ]
  },
  {
   "cell_type": "markdown",
   "metadata": {},
   "source": [
    "## 7 Tangent line to $y = \\dfrac{x + 2}{x - 3}$\n",
    "\n",
    "(a) Find an equation of the tangent line to the curve at the point $(2, -4)$.\n"
   ]
  },
  {
   "cell_type": "code",
   "execution_count": 71,
   "metadata": {},
   "outputs": [
    {
     "data": {
      "text/latex": [
       "$\\displaystyle \\frac{x + 2}{x - 3}$"
      ],
      "text/plain": [
       "(x + 2)/(x - 3)"
      ]
     },
     "execution_count": 71,
     "metadata": {},
     "output_type": "execute_result"
    }
   ],
   "source": [
    "fx = (x + 2)/(x-3) \n",
    "fx"
   ]
  },
  {
   "cell_type": "code",
   "execution_count": 73,
   "metadata": {},
   "outputs": [
    {
     "data": {
      "text/latex": [
       "$\\displaystyle -5$"
      ],
      "text/plain": [
       "-5"
      ]
     },
     "execution_count": 73,
     "metadata": {},
     "output_type": "execute_result"
    }
   ],
   "source": [
    "slope_tangent = secant_slope_fn(fx,2)\n",
    "slope_tangent"
   ]
  },
  {
   "cell_type": "code",
   "execution_count": 75,
   "metadata": {},
   "outputs": [
    {
     "data": {
      "text/latex": [
       "$\\displaystyle 6 - 5 x$"
      ],
      "text/plain": [
       "6 - 5*x"
      ]
     },
     "execution_count": 75,
     "metadata": {},
     "output_type": "execute_result"
    }
   ],
   "source": [
    "tangent_line_eq = slope_tangent *(x-2) - 4\n",
    "tangent_line_eq"
   ]
  },
  {
   "cell_type": "markdown",
   "metadata": {},
   "source": [
    "## 8 Tangent line to $y = \\sqrt{1 - 3x}$\n",
    "\n",
    "(a) Find an equation of the tangent line to the curve at the point $(-1, 2)$."
   ]
  },
  {
   "cell_type": "code",
   "execution_count": 76,
   "metadata": {},
   "outputs": [
    {
     "data": {
      "text/latex": [
       "$\\displaystyle \\sqrt{1 - 3 x}$"
      ],
      "text/plain": [
       "sqrt(1 - 3*x)"
      ]
     },
     "execution_count": 76,
     "metadata": {},
     "output_type": "execute_result"
    }
   ],
   "source": [
    "fx = sp.sqrt(1-3*x)\n",
    "fx"
   ]
  },
  {
   "cell_type": "code",
   "execution_count": 78,
   "metadata": {},
   "outputs": [
    {
     "data": {
      "text/latex": [
       "$\\displaystyle - \\frac{3}{4}$"
      ],
      "text/plain": [
       "-3/4"
      ]
     },
     "execution_count": 78,
     "metadata": {},
     "output_type": "execute_result"
    }
   ],
   "source": [
    "slope_tangent = secant_slope_fn(fx,-1)\n",
    "slope_tangent"
   ]
  },
  {
   "cell_type": "code",
   "execution_count": 79,
   "metadata": {},
   "outputs": [
    {
     "data": {
      "text/latex": [
       "$\\displaystyle \\frac{5}{4} - \\frac{3 x}{4}$"
      ],
      "text/plain": [
       "5/4 - 3*x/4"
      ]
     },
     "execution_count": 79,
     "metadata": {},
     "output_type": "execute_result"
    }
   ],
   "source": [
    "tangent_line_eq = slope_tangent * (x +1) + 2\n",
    "tangent_line_eq"
   ]
  },
  {
   "cell_type": "markdown",
   "metadata": {},
   "source": [
    "## 12 Projectile Motion on Mars\n",
    "\n",
    "If a rock is thrown upwards on the planet Mars with a velocity of $10\\text{ m/s}$, its height in meters after $t$ seconds is given by $H=10t-1.86t^{2}$.\n",
    "\n",
    "**(a)** Find the velocity of the rock after one second.\n",
    "> Ans : 6.28 m/s\n",
    "\n",
    "**(b)** Find the velocity of the rock when $t=a$.\n",
    "> Ans : $10.0−3.72a$\n",
    "\n",
    "**(c)** When will the rock hit the surface?\n",
    "> Ans : 5.37634408602151 s\n",
    "\n",
    "**(d)** With what velocity will the rock hit the surface?\n",
    "> Ans : −10.0 m/s\n"
   ]
  },
  {
   "cell_type": "code",
   "execution_count": 81,
   "metadata": {},
   "outputs": [
    {
     "data": {
      "text/latex": [
       "$\\displaystyle - 1.86 x^{2} + 10 x$"
      ],
      "text/plain": [
       "-1.86*x**2 + 10*x"
      ]
     },
     "execution_count": 81,
     "metadata": {},
     "output_type": "execute_result"
    }
   ],
   "source": [
    "fx = 10*x - 1.86*x**2\n",
    "fx"
   ]
  },
  {
   "cell_type": "code",
   "execution_count": 87,
   "metadata": {},
   "outputs": [
    {
     "data": {
      "text/latex": [
       "$\\displaystyle 10.0 - 3.72 a$"
      ],
      "text/plain": [
       "10.0 - 3.72*a"
      ]
     },
     "execution_count": 87,
     "metadata": {},
     "output_type": "execute_result"
    }
   ],
   "source": [
    "slope_tangent = secant_slope_fn(fx,a)\n",
    "slope_tangent.evalf()"
   ]
  },
  {
   "cell_type": "code",
   "execution_count": 86,
   "metadata": {},
   "outputs": [
    {
     "data": {
      "text/latex": [
       "$\\displaystyle 6.28$"
      ],
      "text/plain": [
       "6.28000000000000"
      ]
     },
     "execution_count": 86,
     "metadata": {},
     "output_type": "execute_result"
    }
   ],
   "source": [
    "slope_tangent.subs(a,1).evalf()"
   ]
  },
  {
   "cell_type": "code",
   "execution_count": 89,
   "metadata": {},
   "outputs": [
    {
     "data": {
      "text/plain": [
       "[0.0, 5.37634408602151]"
      ]
     },
     "execution_count": 89,
     "metadata": {},
     "output_type": "execute_result"
    }
   ],
   "source": [
    "sp.solve(fx)"
   ]
  },
  {
   "cell_type": "code",
   "execution_count": 92,
   "metadata": {},
   "outputs": [
    {
     "data": {
      "text/latex": [
       "$\\displaystyle -10.0$"
      ],
      "text/plain": [
       "-10.0000000000000"
      ]
     },
     "execution_count": 92,
     "metadata": {},
     "output_type": "execute_result"
    }
   ],
   "source": [
    "slope_tangent.subs(a,5.37634408602151)"
   ]
  },
  {
   "cell_type": "markdown",
   "metadata": {},
   "source": [
    "\n",
    "## 13 Motion Along a Line\n",
    "\n",
    "The displacement (in meters) of a particle moving in a straight line is given by the equation of motions $s=\\dfrac{1}{t^{2}}$, where $t$ is measured in seconds. Find the velocity of the particle at \n",
    "$t=a$ \n",
    "> Ans: $- \\frac{2}{a^{3}}$\n",
    "\n",
    "$t=1$.\n",
    "> Ans:  -2"
   ]
  },
  {
   "cell_type": "code",
   "execution_count": 93,
   "metadata": {},
   "outputs": [
    {
     "data": {
      "text/latex": [
       "$\\displaystyle \\frac{1}{x^{2}}$"
      ],
      "text/plain": [
       "x**(-2)"
      ]
     },
     "execution_count": 93,
     "metadata": {},
     "output_type": "execute_result"
    }
   ],
   "source": [
    "fx = 1/x**2\n",
    "fx"
   ]
  },
  {
   "cell_type": "code",
   "execution_count": 94,
   "metadata": {},
   "outputs": [
    {
     "data": {
      "text/latex": [
       "$\\displaystyle - \\frac{2}{a^{3}}$"
      ],
      "text/plain": [
       "-2/a**3"
      ]
     },
     "execution_count": 94,
     "metadata": {},
     "output_type": "execute_result"
    }
   ],
   "source": [
    "slope_tangent = secant_slope_fn(fx,a)\n",
    "slope_tangent"
   ]
  },
  {
   "cell_type": "code",
   "execution_count": 96,
   "metadata": {},
   "outputs": [
    {
     "name": "stdout",
     "output_type": "stream",
     "text": [
      "- \\frac{2}{a^{3}}\n"
     ]
    }
   ],
   "source": [
    "sp.print_latex(slope_tangent)"
   ]
  },
  {
   "cell_type": "code",
   "execution_count": 95,
   "metadata": {},
   "outputs": [
    {
     "data": {
      "text/latex": [
       "$\\displaystyle -2$"
      ],
      "text/plain": [
       "-2"
      ]
     },
     "execution_count": 95,
     "metadata": {},
     "output_type": "execute_result"
    }
   ],
   "source": [
    "slope_tangent.subs(a,1)"
   ]
  },
  {
   "cell_type": "markdown",
   "metadata": {},
   "source": [
    "\n",
    "## 14 Motion Along a Line\n",
    "\n",
    "The displacement (in feet) of a particle moving in a straight line is given by $s=\\dfrac{1}{2}t^{2}-6t+23$ where $t$ is measured in seconds.\n",
    "\n",
    "**(a)** Find the average velocity over each time interval:\n",
    "\n",
    "* $[4, 8]$ \n",
    "> Ans : 0 ft/s\n",
    "\n",
    "* $[6, 8]$\n",
    "> Ans : 1 ft/s\n",
    "\n",
    "* $[8, 10]$\n",
    "> Ans : 3 ft/s\n",
    "\n",
    "* $[8, 12]$\n",
    "> Ans : 4 ft/s\n",
    "\n",
    "\n",
    "**(b)** Find the instantaneous velocity when $t=8$.\n",
    "> 2 ft/s\n"
   ]
  },
  {
   "cell_type": "code",
   "execution_count": 98,
   "metadata": {},
   "outputs": [
    {
     "data": {
      "text/latex": [
       "$\\displaystyle \\frac{x^{2}}{2} - 6 x + 23$"
      ],
      "text/plain": [
       "x**2/2 - 6*x + 23"
      ]
     },
     "execution_count": 98,
     "metadata": {},
     "output_type": "execute_result"
    }
   ],
   "source": [
    "fx = x**2/2 - 6*x + 23\n",
    "fx"
   ]
  },
  {
   "cell_type": "code",
   "execution_count": 105,
   "metadata": {},
   "outputs": [
    {
     "data": {
      "text/latex": [
       "$\\displaystyle \\frac{h}{2} + t - 6$"
      ],
      "text/plain": [
       "h/2 + t - 6"
      ]
     },
     "execution_count": 105,
     "metadata": {},
     "output_type": "execute_result"
    }
   ],
   "source": [
    "average_velocity = sp.simplify((fx.subs(x,t+h) - fx.subs(x,t)) / h)\n",
    "average_velocity"
   ]
  },
  {
   "cell_type": "code",
   "execution_count": 107,
   "metadata": {},
   "outputs": [
    {
     "data": {
      "text/latex": [
       "$\\displaystyle 0$"
      ],
      "text/plain": [
       "0"
      ]
     },
     "execution_count": 107,
     "metadata": {},
     "output_type": "execute_result"
    }
   ],
   "source": [
    "average_velocity.subs({t:4,h:4})"
   ]
  },
  {
   "cell_type": "code",
   "execution_count": 108,
   "metadata": {},
   "outputs": [
    {
     "data": {
      "text/latex": [
       "$\\displaystyle 1$"
      ],
      "text/plain": [
       "1"
      ]
     },
     "execution_count": 108,
     "metadata": {},
     "output_type": "execute_result"
    }
   ],
   "source": [
    "average_velocity.subs({t:6,h:2})"
   ]
  },
  {
   "cell_type": "code",
   "execution_count": 109,
   "metadata": {},
   "outputs": [
    {
     "data": {
      "text/latex": [
       "$\\displaystyle 3$"
      ],
      "text/plain": [
       "3"
      ]
     },
     "execution_count": 109,
     "metadata": {},
     "output_type": "execute_result"
    }
   ],
   "source": [
    "average_velocity.subs({t:8,h:2})"
   ]
  },
  {
   "cell_type": "code",
   "execution_count": 110,
   "metadata": {},
   "outputs": [
    {
     "data": {
      "text/latex": [
       "$\\displaystyle 4$"
      ],
      "text/plain": [
       "4"
      ]
     },
     "execution_count": 110,
     "metadata": {},
     "output_type": "execute_result"
    }
   ],
   "source": [
    "average_velocity.subs({t:8,h:4})"
   ]
  },
  {
   "cell_type": "code",
   "execution_count": 111,
   "metadata": {},
   "outputs": [
    {
     "data": {
      "text/latex": [
       "$\\displaystyle 2$"
      ],
      "text/plain": [
       "2"
      ]
     },
     "execution_count": 111,
     "metadata": {},
     "output_type": "execute_result"
    }
   ],
   "source": [
    "slope_tangent = secant_slope_fn(fx,8)\n",
    "slope_tangent"
   ]
  },
  {
   "attachments": {
    "image.png": {
     "image/png": "[encoded data removed]"
    }
   },
   "cell_type": "markdown",
   "metadata": {},
   "source": [
    "## 15 Motion Along a Line\n",
    "\n",
    "![image.png](attachment:image.png)\n",
    "\n",
    "**(a)** A particle starts by moving to the right along a horizontal line; the graph of its position function is shown in the figure. When is the particle moving to the right? Moving to the left? Standing still?\n",
    "> Ans : R -> (0-1) ,(4-6) ,L (2-4) ,S (1-2) ,(3,4)\n",
    "\n",
    "**(b)** Draw a graph of the velocity function."
   ]
  },
  {
   "cell_type": "markdown",
   "metadata": {},
   "source": [
    "## Exercises 19-28: Finding Derivatives and Tangent Lines\n",
    "\n",
    "**19-20. Use Definition 4 to find $f'(a)$ at the given number $a$.**\n",
    "\n",
    "19. $f(x) = \\sqrt{4x+1},$  \\[a = 6\\]\n"
   ]
  },
  {
   "cell_type": "code",
   "execution_count": 118,
   "metadata": {},
   "outputs": [
    {
     "data": {
      "text/latex": [
       "$\\displaystyle \\sqrt{4 x + 1}$"
      ],
      "text/plain": [
       "sqrt(4*x + 1)"
      ]
     },
     "execution_count": 118,
     "metadata": {},
     "output_type": "execute_result"
    }
   ],
   "source": [
    "fx = sp.sqrt(4*x +1)\n",
    "fx"
   ]
  },
  {
   "cell_type": "code",
   "execution_count": 122,
   "metadata": {},
   "outputs": [
    {
     "data": {
      "text/latex": [
       "$\\displaystyle \\frac{- \\sqrt{4 a + 1} + \\sqrt{4 a + 4 h + 1}}{h}$"
      ],
      "text/plain": [
       "(-sqrt(4*a + 1) + sqrt(4*a + 4*h + 1))/h"
      ]
     },
     "execution_count": 122,
     "metadata": {},
     "output_type": "execute_result"
    }
   ],
   "source": [
    "f_prime_a = (fx.subs(x, a+h) - fx.subs(x,a)) / h\n",
    "f_prime_a"
   ]
  },
  {
   "cell_type": "code",
   "execution_count": 123,
   "metadata": {},
   "outputs": [
    {
     "data": {
      "text/latex": [
       "$\\displaystyle \\frac{\\sqrt{4 h + 25} - 5}{h}$"
      ],
      "text/plain": [
       "(sqrt(4*h + 25) - 5)/h"
      ]
     },
     "execution_count": 123,
     "metadata": {},
     "output_type": "execute_result"
    }
   ],
   "source": [
    "f_prime_a.subs(a,6)"
   ]
  },
  {
   "cell_type": "code",
   "execution_count": 124,
   "metadata": {},
   "outputs": [
    {
     "data": {
      "text/latex": [
       "$\\displaystyle \\frac{2}{5}$"
      ],
      "text/plain": [
       "2/5"
      ]
     },
     "execution_count": 124,
     "metadata": {},
     "output_type": "execute_result"
    }
   ],
   "source": [
    "sp.limit(f_prime_a.subs(a,6),h,0)"
   ]
  },
  {
   "cell_type": "markdown",
   "metadata": {},
   "source": [
    "20. $f(x) = 5x^4,$  \\[a = -1\\]"
   ]
  },
  {
   "cell_type": "code",
   "execution_count": 125,
   "metadata": {},
   "outputs": [
    {
     "data": {
      "text/latex": [
       "$\\displaystyle 5 x^{4}$"
      ],
      "text/plain": [
       "5*x**4"
      ]
     },
     "execution_count": 125,
     "metadata": {},
     "output_type": "execute_result"
    }
   ],
   "source": [
    "fx = 5*x**4\n",
    "fx"
   ]
  },
  {
   "cell_type": "code",
   "execution_count": 128,
   "metadata": {},
   "outputs": [
    {
     "data": {
      "text/latex": [
       "$\\displaystyle \\frac{- 5 a^{4} + 5 \\left(a + h\\right)^{4}}{h}$"
      ],
      "text/plain": [
       "(-5*a**4 + 5*(a + h)**4)/h"
      ]
     },
     "execution_count": 128,
     "metadata": {},
     "output_type": "execute_result"
    }
   ],
   "source": [
    "f_prime_a = (fx.subs(x,a+h) - fx.subs(x,a)) / h\n",
    "f_prime_a"
   ]
  },
  {
   "cell_type": "code",
   "execution_count": 129,
   "metadata": {},
   "outputs": [
    {
     "data": {
      "text/latex": [
       "$\\displaystyle -20$"
      ],
      "text/plain": [
       "-20"
      ]
     },
     "execution_count": 129,
     "metadata": {},
     "output_type": "execute_result"
    }
   ],
   "source": [
    "sp.limit(f_prime_a.subs(a,-1),h,0)"
   ]
  },
  {
   "cell_type": "markdown",
   "metadata": {},
   "source": [
    "\n",
    "**21-22. Use Equation 5 to find $f'(a)$ at the given number $a$.**\n",
    "\n",
    "21.                                                                     \n",
    "$f(x) = \\dfrac{x^2}{x+6},a = 3$                                              \n"
   ]
  },
  {
   "cell_type": "code",
   "execution_count": 130,
   "metadata": {},
   "outputs": [
    {
     "data": {
      "text/latex": [
       "$\\displaystyle \\frac{x^{2}}{x + 6}$"
      ],
      "text/plain": [
       "x**2/(x + 6)"
      ]
     },
     "execution_count": 130,
     "metadata": {},
     "output_type": "execute_result"
    }
   ],
   "source": [
    "fx = (x**2) / (x+6)\n",
    "fx"
   ]
  },
  {
   "cell_type": "code",
   "execution_count": 131,
   "metadata": {},
   "outputs": [
    {
     "data": {
      "text/latex": [
       "$\\displaystyle \\frac{- \\frac{a^{2}}{a + 6} + \\frac{x^{2}}{x + 6}}{- a + x}$"
      ],
      "text/plain": [
       "(-a**2/(a + 6) + x**2/(x + 6))/(-a + x)"
      ]
     },
     "execution_count": 131,
     "metadata": {},
     "output_type": "execute_result"
    }
   ],
   "source": [
    "f_prime_a = (fx - fx.subs(x,a)) / (x-a)\n",
    "f_prime_a"
   ]
  },
  {
   "cell_type": "code",
   "execution_count": 133,
   "metadata": {},
   "outputs": [
    {
     "data": {
      "text/latex": [
       "$\\displaystyle \\frac{5}{9}$"
      ],
      "text/plain": [
       "5/9"
      ]
     },
     "execution_count": 133,
     "metadata": {},
     "output_type": "execute_result"
    }
   ],
   "source": [
    "sp.limit(f_prime_a.subs(a,3),x,3)"
   ]
  }
 ],
 "metadata": {
  "kernelspec": {
   "display_name": "calculus",
   "language": "python",
   "name": "python3"
  },
  "language_info": {
   "codemirror_mode": {
    "name": "ipython",
    "version": 3
   },
   "file_extension": ".py",
   "mimetype": "text/x-python",
   "name": "python",
   "nbconvert_exporter": "python",
   "pygments_lexer": "ipython3",
   "version": "3.10.0"
  }
 },
 "nbformat": 4,
 "nbformat_minor": 2
}
